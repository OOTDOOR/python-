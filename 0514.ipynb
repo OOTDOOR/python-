{
 "cells": [
  {
   "cell_type": "code",
   "execution_count": 4,
   "id": "ddbcf01c-21cc-4d7c-b342-1e4fd95a0b6a",
   "metadata": {},
   "outputs": [
    {
     "name": "stdout",
     "output_type": "stream",
     "text": [
      "Requirement already satisfied: winspeech in c:\\users\\henry zeng\\anaconda\\lib\\site-packages (1.0.1)\n",
      "Requirement already satisfied: pywin32 in c:\\users\\henry zeng\\anaconda\\lib\\site-packages (from winspeech) (305.1)\n",
      "Requirement already satisfied: SpeechRecognition in c:\\users\\henry zeng\\anaconda\\lib\\site-packages (3.10.4)\n",
      "Requirement already satisfied: requests>=2.26.0 in c:\\users\\henry zeng\\anaconda\\lib\\site-packages (from SpeechRecognition) (2.31.0)\n",
      "Requirement already satisfied: typing-extensions in c:\\users\\henry zeng\\anaconda\\lib\\site-packages (from SpeechRecognition) (4.9.0)\n",
      "Requirement already satisfied: charset-normalizer<4,>=2 in c:\\users\\henry zeng\\anaconda\\lib\\site-packages (from requests>=2.26.0->SpeechRecognition) (2.0.4)\n",
      "Requirement already satisfied: idna<4,>=2.5 in c:\\users\\henry zeng\\anaconda\\lib\\site-packages (from requests>=2.26.0->SpeechRecognition) (3.4)\n",
      "Requirement already satisfied: urllib3<3,>=1.21.1 in c:\\users\\henry zeng\\anaconda\\lib\\site-packages (from requests>=2.26.0->SpeechRecognition) (2.0.7)\n",
      "Requirement already satisfied: certifi>=2017.4.17 in c:\\users\\henry zeng\\anaconda\\lib\\site-packages (from requests>=2.26.0->SpeechRecognition) (2024.2.2)\n",
      "Requirement already satisfied: pipwin in c:\\users\\henry zeng\\anaconda\\lib\\site-packages (0.5.2)\n",
      "Requirement already satisfied: docopt in c:\\users\\henry zeng\\anaconda\\lib\\site-packages (from pipwin) (0.6.2)\n",
      "Requirement already satisfied: requests in c:\\users\\henry zeng\\anaconda\\lib\\site-packages (from pipwin) (2.31.0)\n",
      "Requirement already satisfied: pyprind in c:\\users\\henry zeng\\anaconda\\lib\\site-packages (from pipwin) (2.11.3)\n",
      "Requirement already satisfied: six in c:\\users\\henry zeng\\anaconda\\lib\\site-packages (from pipwin) (1.16.0)\n",
      "Requirement already satisfied: beautifulsoup4>=4.9.0 in c:\\users\\henry zeng\\anaconda\\lib\\site-packages (from pipwin) (4.12.2)\n",
      "Requirement already satisfied: js2py in c:\\users\\henry zeng\\anaconda\\lib\\site-packages (from pipwin) (0.74)\n",
      "Requirement already satisfied: packaging in c:\\users\\henry zeng\\anaconda\\lib\\site-packages (from pipwin) (23.1)\n",
      "Requirement already satisfied: pySmartDL>=1.3.1 in c:\\users\\henry zeng\\anaconda\\lib\\site-packages (from pipwin) (1.3.4)\n",
      "Requirement already satisfied: soupsieve>1.2 in c:\\users\\henry zeng\\anaconda\\lib\\site-packages (from beautifulsoup4>=4.9.0->pipwin) (2.5)\n",
      "Requirement already satisfied: tzlocal>=1.2 in c:\\users\\henry zeng\\anaconda\\lib\\site-packages (from js2py->pipwin) (2.1)\n",
      "Requirement already satisfied: pyjsparser>=2.5.1 in c:\\users\\henry zeng\\anaconda\\lib\\site-packages (from js2py->pipwin) (2.7.1)\n",
      "Requirement already satisfied: charset-normalizer<4,>=2 in c:\\users\\henry zeng\\anaconda\\lib\\site-packages (from requests->pipwin) (2.0.4)\n",
      "Requirement already satisfied: idna<4,>=2.5 in c:\\users\\henry zeng\\anaconda\\lib\\site-packages (from requests->pipwin) (3.4)\n",
      "Requirement already satisfied: urllib3<3,>=1.21.1 in c:\\users\\henry zeng\\anaconda\\lib\\site-packages (from requests->pipwin) (2.0.7)\n",
      "Requirement already satisfied: certifi>=2017.4.17 in c:\\users\\henry zeng\\anaconda\\lib\\site-packages (from requests->pipwin) (2024.2.2)\n",
      "Requirement already satisfied: pytz in c:\\users\\henry zeng\\anaconda\\lib\\site-packages (from tzlocal>=1.2->js2py->pipwin) (2023.3.post1)\n",
      "Requirement already satisfied: pyaudio in c:\\users\\henry zeng\\anaconda\\lib\\site-packages (0.2.11)\n"
     ]
    }
   ],
   "source": [
    "!pip install winspeech\n",
    "\n",
    "!pip install SpeechRecognition\n",
    "\n",
    "!pip install pipwin\n",
    "\n",
    "!pip install pyaudio\n",
    "\n",
    "import speech_recognition\n",
    "def listenTo():\n",
    "    r=speech_recognition.Recognizer()\n",
    "    with speech_recognition.Microphone()as source:\n",
    "        r.adjust_for_ambient_noise(source)\n",
    "        audio=r.listen(source)\n",
    "        return r.recognize_google(audio,language='zh-TW')\n",
    "\n",
    "import tempfile\n",
    "from gtts import gTTS\n",
    "from pygame import mixer\n",
    "mixer.init()\n",
    "\n",
    "def speak(sentence):\n",
    "    with tempfile.NamedTemporaryFile(delete=True)as fp:\n",
    "        tts=gTTS(text=sentence,lang='zh-TW')\n",
    "        tts.save(\"{}.mp3\".format(fp.name))\n",
    "        mixer.music.load('{}.mp3'.format(fp.name))\n",
    "        mixer.music.play()\n",
    "speak('大家好')\n",
    "\n",
    "qa={'你叫什麼名字':'我叫谷歌妹','請問今年幾歲':'小女今年20歲'}\n",
    "\n",
    "speak(qa.get(listenTo(),'聽不懂,再講一次'))"
   ]
  },
  {
   "cell_type": "code",
   "execution_count": null,
   "id": "1382e26e-044c-45a0-a671-4240379980b0",
   "metadata": {},
   "outputs": [],
   "source": []
  },
  {
   "cell_type": "code",
   "execution_count": null,
   "id": "dfc11d6f-5490-4bbf-aa8a-71888d1e2c78",
   "metadata": {},
   "outputs": [],
   "source": []
  }
 ],
 "metadata": {
  "kernelspec": {
   "display_name": "Python 3 (ipykernel)",
   "language": "python",
   "name": "python3"
  },
  "language_info": {
   "codemirror_mode": {
    "name": "ipython",
    "version": 3
   },
   "file_extension": ".py",
   "mimetype": "text/x-python",
   "name": "python",
   "nbconvert_exporter": "python",
   "pygments_lexer": "ipython3",
   "version": "3.11.7"
  }
 },
 "nbformat": 4,
 "nbformat_minor": 5
}

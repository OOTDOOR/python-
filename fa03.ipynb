{
 "cells": [
  {
   "cell_type": "code",
   "execution_count": 1,
   "id": "e87860a3-2e18-4894-ba37-03e84315988b",
   "metadata": {},
   "outputs": [
    {
     "name": "stdout",
     "output_type": "stream",
     "text": [
      "Requirement already satisfied: pyaudio in c:\\users\\henry zeng\\anaconda\\lib\\site-packages (0.2.11)\n",
      "Note: you may need to restart the kernel to use updated packages.\n"
     ]
    }
   ],
   "source": [
    "pip install pyaudio"
   ]
  },
  {
   "cell_type": "code",
   "execution_count": 2,
   "id": "98810764-8829-48da-bf14-a4135978dd7b",
   "metadata": {},
   "outputs": [
    {
     "name": "stdout",
     "output_type": "stream",
     "text": [
      "C:\\Users\\Henry Zeng\\anaconda\\python.exe\n"
     ]
    }
   ],
   "source": [
    "import sys\n",
    "print(sys.executable)"
   ]
  },
  {
   "cell_type": "code",
   "execution_count": 3,
   "id": "7499be99-3224-486b-8a29-d4866349450a",
   "metadata": {},
   "outputs": [
    {
     "name": "stdout",
     "output_type": "stream",
     "text": [
      "['C:\\\\Users\\\\Henry Zeng', 'C:\\\\Users\\\\Henry Zeng\\\\anaconda\\\\python311.zip', 'C:\\\\Users\\\\Henry Zeng\\\\anaconda\\\\DLLs', 'C:\\\\Users\\\\Henry Zeng\\\\anaconda\\\\Lib', 'C:\\\\Users\\\\Henry Zeng\\\\anaconda', '', 'C:\\\\Users\\\\Henry Zeng\\\\anaconda\\\\Lib\\\\site-packages', 'C:\\\\Users\\\\Henry Zeng\\\\anaconda\\\\Lib\\\\site-packages\\\\win32', 'C:\\\\Users\\\\Henry Zeng\\\\anaconda\\\\Lib\\\\site-packages\\\\win32\\\\lib', 'C:\\\\Users\\\\Henry Zeng\\\\anaconda\\\\Lib\\\\site-packages\\\\Pythonwin']\n"
     ]
    }
   ],
   "source": [
    "import sys\n",
    "print(sys.path)"
   ]
  },
  {
   "cell_type": "code",
   "execution_count": 3,
   "id": "78752732-b1ec-4155-8730-c0ca0a997b2d",
   "metadata": {},
   "outputs": [],
   "source": [
    "import sys\n",
    "sys.path.append('C:\\\\Users\\\\Henry Zeng\\\\anaconda\\\\Lib\\\\site-packages')"
   ]
  },
  {
   "cell_type": "code",
   "execution_count": 6,
   "id": "69fd83cc-6b17-4fad-91fb-0174c2165b45",
   "metadata": {
    "scrolled": true
   },
   "outputs": [
    {
     "name": "stdout",
     "output_type": "stream",
     "text": [
      "你好\n"
     ]
    }
   ],
   "source": [
    "#繁體中文\n",
    "\n",
    "import speech_recognition\n",
    "r=speech_recognition.Recognizer()\n",
    "with speech_recognition.Microphone() as source:\n",
    "    audio= r.listen(source)\n",
    "result = r.recognize_google(audio, language='zh-TW')\n",
    "print(result)"
   ]
  },
  {
   "cell_type": "code",
   "execution_count": 20,
   "id": "ab5f7c87-1e62-47a6-8970-7da5e27395cc",
   "metadata": {},
   "outputs": [
    {
     "name": "stdout",
     "output_type": "stream",
     "text": [
      "John Young Christian University\n"
     ]
    }
   ],
   "source": [
    "#英文\n",
    "\n",
    "import speech_recognition\n",
    "r=speech_recognition.Recognizer()\n",
    "with speech_recognition.Microphone() as source:\n",
    "    audio= r.listen(source)\n",
    "result = r.recognize_google(audio, language='en')\n",
    "print(result)"
   ]
  },
  {
   "cell_type": "code",
   "execution_count": 5,
   "id": "e6b5c447-f7da-4f24-9058-49bc54f7bb64",
   "metadata": {},
   "outputs": [
    {
     "name": "stdout",
     "output_type": "stream",
     "text": [
      "こんにちは\n"
     ]
    }
   ],
   "source": [
    "#日文\n",
    "import speech_recognition\n",
    "r=speech_recognition.Recognizer()\n",
    "with speech_recognition.Microphone() as source:\n",
    "    audio= r.listen(source)\n",
    "result = r.recognize_google(audio, language='ja')\n",
    "print(result)"
   ]
  },
  {
   "cell_type": "code",
   "execution_count": 7,
   "id": "f2ace483-9663-4cb8-bd0e-32f28056bf48",
   "metadata": {},
   "outputs": [
    {
     "name": "stdout",
     "output_type": "stream",
     "text": [
      "pygame 2.5.2 (SDL 2.28.3, Python 3.11.7)\n",
      "Hello from the pygame community. https://www.pygame.org/contribute.html\n"
     ]
    }
   ],
   "source": [
    "from gtts import gTTS\n",
    "tts=gTTS(text='發發你好嗎?', lang='zh-TW')\n",
    "tts.save('fa.mp3')\n",
    "from pygame import mixer\n",
    "mixer.init()\n",
    "mixer.music.load('fa.mp3')\n",
    "mixer.music.play()                "
   ]
  },
  {
   "cell_type": "code",
   "execution_count": 1,
   "id": "6e2381d4-b01b-4e64-b52f-226f0517205e",
   "metadata": {},
   "outputs": [],
   "source": [
    "from gtts import gTTS\n",
    "tts1=gTTS(text='さようなら', lang='ja')\n",
    "tts1.save('japanese_thank_you.mp3')              "
   ]
  },
  {
   "cell_type": "code",
   "execution_count": 3,
   "id": "411ebdb7-5d58-46b2-96af-09acfc7bb4af",
   "metadata": {},
   "outputs": [],
   "source": [
    "from pygame import mixer\n",
    "mixer.init()\n",
    "mixer.music.load('japanese_thank_you.mp3')\n",
    "mixer.music.play() "
   ]
  },
  {
   "cell_type": "code",
   "execution_count": 5,
   "id": "bcd0e637-2a73-4893-a603-dce7a2ed998d",
   "metadata": {},
   "outputs": [],
   "source": [
    "import tempfile\n",
    "def speak(sentence):\n",
    "    with tempfile.NamedTemporaryFile(delete=True) as fp:\n",
    "        tts=gTTS(text=sentence, lang='zh-CN')\n",
    "        tts.save(\"{}.mp3\".format(fp.name))\n",
    "        mixer.music.load('{}.mp3'.format(fp.name))\n",
    "        mixer.music.play()"
   ]
  },
  {
   "cell_type": "code",
   "execution_count": 6,
   "id": "168f0771-e899-41fd-b0b0-c2c14e3dd300",
   "metadata": {},
   "outputs": [],
   "source": [
    "speak('發發好帥！！蟋蟀的蟀！')"
   ]
  },
  {
   "cell_type": "code",
   "execution_count": 7,
   "id": "c95cd444-f307-4c19-bd2b-43ef4d7e0f15",
   "metadata": {},
   "outputs": [],
   "source": [
    "import tempfile\n",
    "def speak(sentence):\n",
    "    with tempfile.NamedTemporaryFile(delete=True) as fp:\n",
    "        tts=gTTS(text=sentence, lang='ja')\n",
    "        tts.save(\"{}.mp3\".format(fp.name))\n",
    "        mixer.music.load('{}.mp3'.format(fp.name))\n",
    "        mixer.music.play()"
   ]
  },
  {
   "cell_type": "code",
   "execution_count": 16,
   "id": "14d2ba5d-918f-4c3f-883a-0c8f9a4d75df",
   "metadata": {},
   "outputs": [],
   "source": [
    "#时间是片温柔羽毛，把过往灰尘轻轻弹去。\n",
    "\n",
    "\n",
    "speak('時間は優しい羽で、過去のほこりをそっとはじきます')"
   ]
  },
  {
   "cell_type": "code",
   "execution_count": 18,
   "id": "0e2df11f-e95e-4027-aa62-e17146f199fe",
   "metadata": {},
   "outputs": [],
   "source": [
    "from pygame import mixer\n",
    "mixer.init()\n",
    "mixer.music.load('hiphop.10.mp3')\n",
    "mixer.music.play()"
   ]
  },
  {
   "cell_type": "code",
   "execution_count": null,
   "id": "939ff533-534f-4474-a12e-bb5830a30a7f",
   "metadata": {},
   "outputs": [],
   "source": []
  },
  {
   "cell_type": "code",
   "execution_count": null,
   "id": "79458ae4-89eb-483d-a1fb-32ebe6d19684",
   "metadata": {},
   "outputs": [],
   "source": []
  },
  {
   "cell_type": "code",
   "execution_count": null,
   "id": "219955d6-1e41-46d8-a7f0-943f90218de7",
   "metadata": {},
   "outputs": [],
   "source": []
  }
 ],
 "metadata": {
  "kernelspec": {
   "display_name": "Python 3 (ipykernel)",
   "language": "python",
   "name": "python3"
  },
  "language_info": {
   "codemirror_mode": {
    "name": "ipython",
    "version": 3
   },
   "file_extension": ".py",
   "mimetype": "text/x-python",
   "name": "python",
   "nbconvert_exporter": "python",
   "pygments_lexer": "ipython3",
   "version": "3.11.7"
  }
 },
 "nbformat": 4,
 "nbformat_minor": 5
}
